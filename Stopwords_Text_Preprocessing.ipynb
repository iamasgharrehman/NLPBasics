{
  "nbformat": 4,
  "nbformat_minor": 0,
  "metadata": {
    "colab": {
      "provenance": []
    },
    "kernelspec": {
      "name": "python3",
      "display_name": "Python 3"
    },
    "language_info": {
      "name": "python"
    }
  },
  "cells": [
    {
      "cell_type": "code",
      "execution_count": 1,
      "metadata": {
        "id": "JH5xRw2fyukl"
      },
      "outputs": [],
      "source": [
        "paragraph = \"\"\"\n",
        "John Wick is a 2014 American action thriller film directed by Chad Stahelski and written by Derek Kolstad. Keanu Reeves stars as John Wick, a renowned former hitman who comes out of retirement to seek revenge against the men who killed his dog, a final gift from his recently deceased wife. The film also stars Michael Nyqvist, Alfie Allen, Adrianne Palicki, Bridget Moynahan, Dean Winters, Ian McShane, John Leguizamo, and Willem Dafoe.\n",
        "\n",
        "Kolstad's script drew on his interest in action, revenge, and neo noir films. The producer Basil Iwanyk purchased the rights as his first independent film production. Reeves, whose career was declining, liked the script and recommended that the experienced stunt choreographers Stahelski and David Leitch direct the action scenes; Stahelski and Leitch successfully lobbied to co-direct the project. Principal photography began in October 2013, on a $20–$30 million budget, and concluded that December. Stahelski and Leitch focused on long, highly choreographed single takes to convey action, eschewing the rapid cuts and closeup shots of contemporary action films.\n",
        "\n",
        "Iwanyk struggled to secure theatrical distributors because industry executives were dismissive of an action film by first-time directors, and Reeves's recent films had financially underperformed. Lionsgate Films purchased the distribution rights to the film two months before its release date on October 24, 2014. Following a successful marketing campaign that changed its perception from disposable entertainment to a prestige event helmed by an affable leading actor, John Wick exceeded box-office projections and became a modest success, grossing $86 million worldwide. It received generally positive reviews for its style and its action sequences. Critics hailed John Wick as a comeback for Reeves, in a role that played to his acting strengths. The film's mythology of a criminal underworld with rituals and rules was praised as its most distinctive and interesting feature.\n",
        "\n",
        "John Wick began a successful franchise which includes three sequels (John Wick: Chapter 2 (2017), John Wick: Chapter 3 – Parabellum (2019), and John Wick: Chapter 4 (2023)), the prequel television series The Continental (2023), and the spin-off film Ballerina (2025), as well as video games and comic books. It is seen as having revitalized the action genre and popularized long single takes with choreographed, detailed action.\n",
        "\n",
        "Plot\n",
        "In New York City, John Wick is grieving the death of his wife Helen, who had arranged for him to receive a beagle puppy, Daisy, to help cope with his loss. A few days later, a group of Russian gangsters led by Iosef Tarasov accost John at a gas station and fail to intimidate him into selling them his 1969 Boss 429 Mustang.[ii] That night, they break into John's home, assault him, kill the puppy, and steal the car. Iosef takes the Mustang to a chop shop to remove its identifying details, but the shop owner, Aurelio, recognizes it and refuses service. Aurelio informs John that Iosef is the son of Viggo Tarasov, the boss of New York City's Russian Mafia.\n",
        "\n",
        "Upon learning of his son's actions, Viggo berates Iosef for incurring John's wrath. He reveals John was once a hitman in his employ, and was renowned and feared in the criminal underworld as the \"Baba Yaga\", a ruthless, relentless \"man of focus, commitment, and sheer will\". After John fell in love with Helen, a civilian, Viggo gave him a seemingly impossible task to earn his freedom; he succeeded.\n",
        "\n",
        "John recovers a concealed stash from his former career that includes weapons and gold coins. He rejects Viggo's attempt to make amends and kills the hit squad subsequently sent to his home. Viggo puts a $2 million bounty on John and enlists John's former mentor, Marcus, to kill him. John lodges at the Continental, a luxurious hotel that serves as neutral ground for the underworld and where conducting criminal business is forbidden. Winston, the hotel's owner and John's old friend, informs him that Iosef is at a nightclub called Red Circle. John infiltrates Red Circle and confronts Iosef, but he is attacked by Viggo's henchman Kirill and forced to retreat to the Continental for medical attention.\n",
        "\n",
        "As John rests, a hitwoman, Ms. Perkins, sneaks into his room. Marcus sees Perkins from an adjacent building and fires a warning shot to alert John, who wakes up and subdues her. Perkins reveals Viggo has doubled the bounty for her to kill John in the hotel and has concealed a high-value stash in a church. John hires another hitman, Harry, to secure Perkins but she kills Harry and escapes.\n",
        "\n",
        "At the church, John destroys Viggo's cache of cash and extensive blackmail material. When Viggo arrives to assess the damage, John assaults him and his men but is hit by Kirill's car and captured. John tells Viggo he will not stop until Iosef is dead because the puppy gave him hope and a chance to not be alone in his grief for Helen. Marcus again intervenes to save John, who kills Kirill and threatens Viggo into revealing Iosef's location in a safe house. John attacks the safehouse and kills Iosef. Marcus encourages John to return to his everyday life. Perkins witnesses this and reveals Marcus's duplicity to Viggo, who has him tortured and killed. Viggo calls John to taunt him with the details, drawing him back to the city.\n",
        "\n",
        "Winston has Perkins executed for breaking the Continental's rules, then informs John that Viggo is preparing to leave the city by helicopter. John races to New York Harbor, where he fights and mortally wounds Viggo. John, resigned to dying from his injuries, watches on his phone a video of Helen telling him they need to go home. He breaks into a nearby animal clinic, treats his wounds, and adopts a pit bull puppy scheduled to be euthanized before beginning to walk home.\n",
        "\n",
        "\"\"\""
      ]
    },
    {
      "cell_type": "code",
      "source": [
        "# prompt: import the sentence tokenizer, word tokenizer, porter stemmer, snowball stemmer, lemmatizer, and stop words from nltk\n",
        "\n",
        "import nltk\n",
        "nltk.download('punkt')\n",
        "nltk.download('wordnet')\n",
        "nltk.download('omw-1.4')\n",
        "nltk.download('stopwords')\n",
        "nltk.download('punkt_tab')\n",
        "from nltk.tokenize import sent_tokenize, word_tokenize\n",
        "from nltk.stem import PorterStemmer, SnowballStemmer\n",
        "from nltk.stem import WordNetLemmatizer\n",
        "from nltk.corpus import stopwords"
      ],
      "metadata": {
        "colab": {
          "base_uri": "https://localhost:8080/"
        },
        "id": "LSRieBnmSBDe",
        "outputId": "6eb28222-5fce-4b4c-a138-c749e90dbb55"
      },
      "execution_count": 13,
      "outputs": [
        {
          "output_type": "stream",
          "name": "stderr",
          "text": [
            "[nltk_data] Downloading package punkt to /root/nltk_data...\n",
            "[nltk_data]   Package punkt is already up-to-date!\n",
            "[nltk_data] Downloading package wordnet to /root/nltk_data...\n",
            "[nltk_data]   Package wordnet is already up-to-date!\n",
            "[nltk_data] Downloading package omw-1.4 to /root/nltk_data...\n",
            "[nltk_data]   Package omw-1.4 is already up-to-date!\n",
            "[nltk_data] Downloading package stopwords to /root/nltk_data...\n",
            "[nltk_data]   Package stopwords is already up-to-date!\n",
            "[nltk_data] Downloading package punkt_tab to /root/nltk_data...\n",
            "[nltk_data]   Unzipping tokenizers/punkt_tab.zip.\n"
          ]
        }
      ]
    },
    {
      "cell_type": "code",
      "source": [
        "from nltk.corpus import stopwords\n",
        "stopwords.words('english')"
      ],
      "metadata": {
        "colab": {
          "base_uri": "https://localhost:8080/"
        },
        "id": "FovG4Fw-SBGD",
        "outputId": "24da4d7d-fc69-48aa-fb8e-d1fbdaa2546f"
      },
      "execution_count": 9,
      "outputs": [
        {
          "output_type": "execute_result",
          "data": {
            "text/plain": [
              "['a',\n",
              " 'about',\n",
              " 'above',\n",
              " 'after',\n",
              " 'again',\n",
              " 'against',\n",
              " 'ain',\n",
              " 'all',\n",
              " 'am',\n",
              " 'an',\n",
              " 'and',\n",
              " 'any',\n",
              " 'are',\n",
              " 'aren',\n",
              " \"aren't\",\n",
              " 'as',\n",
              " 'at',\n",
              " 'be',\n",
              " 'because',\n",
              " 'been',\n",
              " 'before',\n",
              " 'being',\n",
              " 'below',\n",
              " 'between',\n",
              " 'both',\n",
              " 'but',\n",
              " 'by',\n",
              " 'can',\n",
              " 'couldn',\n",
              " \"couldn't\",\n",
              " 'd',\n",
              " 'did',\n",
              " 'didn',\n",
              " \"didn't\",\n",
              " 'do',\n",
              " 'does',\n",
              " 'doesn',\n",
              " \"doesn't\",\n",
              " 'doing',\n",
              " 'don',\n",
              " \"don't\",\n",
              " 'down',\n",
              " 'during',\n",
              " 'each',\n",
              " 'few',\n",
              " 'for',\n",
              " 'from',\n",
              " 'further',\n",
              " 'had',\n",
              " 'hadn',\n",
              " \"hadn't\",\n",
              " 'has',\n",
              " 'hasn',\n",
              " \"hasn't\",\n",
              " 'have',\n",
              " 'haven',\n",
              " \"haven't\",\n",
              " 'having',\n",
              " 'he',\n",
              " \"he'd\",\n",
              " \"he'll\",\n",
              " 'her',\n",
              " 'here',\n",
              " 'hers',\n",
              " 'herself',\n",
              " \"he's\",\n",
              " 'him',\n",
              " 'himself',\n",
              " 'his',\n",
              " 'how',\n",
              " 'i',\n",
              " \"i'd\",\n",
              " 'if',\n",
              " \"i'll\",\n",
              " \"i'm\",\n",
              " 'in',\n",
              " 'into',\n",
              " 'is',\n",
              " 'isn',\n",
              " \"isn't\",\n",
              " 'it',\n",
              " \"it'd\",\n",
              " \"it'll\",\n",
              " \"it's\",\n",
              " 'its',\n",
              " 'itself',\n",
              " \"i've\",\n",
              " 'just',\n",
              " 'll',\n",
              " 'm',\n",
              " 'ma',\n",
              " 'me',\n",
              " 'mightn',\n",
              " \"mightn't\",\n",
              " 'more',\n",
              " 'most',\n",
              " 'mustn',\n",
              " \"mustn't\",\n",
              " 'my',\n",
              " 'myself',\n",
              " 'needn',\n",
              " \"needn't\",\n",
              " 'no',\n",
              " 'nor',\n",
              " 'not',\n",
              " 'now',\n",
              " 'o',\n",
              " 'of',\n",
              " 'off',\n",
              " 'on',\n",
              " 'once',\n",
              " 'only',\n",
              " 'or',\n",
              " 'other',\n",
              " 'our',\n",
              " 'ours',\n",
              " 'ourselves',\n",
              " 'out',\n",
              " 'over',\n",
              " 'own',\n",
              " 're',\n",
              " 's',\n",
              " 'same',\n",
              " 'shan',\n",
              " \"shan't\",\n",
              " 'she',\n",
              " \"she'd\",\n",
              " \"she'll\",\n",
              " \"she's\",\n",
              " 'should',\n",
              " 'shouldn',\n",
              " \"shouldn't\",\n",
              " \"should've\",\n",
              " 'so',\n",
              " 'some',\n",
              " 'such',\n",
              " 't',\n",
              " 'than',\n",
              " 'that',\n",
              " \"that'll\",\n",
              " 'the',\n",
              " 'their',\n",
              " 'theirs',\n",
              " 'them',\n",
              " 'themselves',\n",
              " 'then',\n",
              " 'there',\n",
              " 'these',\n",
              " 'they',\n",
              " \"they'd\",\n",
              " \"they'll\",\n",
              " \"they're\",\n",
              " \"they've\",\n",
              " 'this',\n",
              " 'those',\n",
              " 'through',\n",
              " 'to',\n",
              " 'too',\n",
              " 'under',\n",
              " 'until',\n",
              " 'up',\n",
              " 've',\n",
              " 'very',\n",
              " 'was',\n",
              " 'wasn',\n",
              " \"wasn't\",\n",
              " 'we',\n",
              " \"we'd\",\n",
              " \"we'll\",\n",
              " \"we're\",\n",
              " 'were',\n",
              " 'weren',\n",
              " \"weren't\",\n",
              " \"we've\",\n",
              " 'what',\n",
              " 'when',\n",
              " 'where',\n",
              " 'which',\n",
              " 'while',\n",
              " 'who',\n",
              " 'whom',\n",
              " 'why',\n",
              " 'will',\n",
              " 'with',\n",
              " 'won',\n",
              " \"won't\",\n",
              " 'wouldn',\n",
              " \"wouldn't\",\n",
              " 'y',\n",
              " 'you',\n",
              " \"you'd\",\n",
              " \"you'll\",\n",
              " 'your',\n",
              " \"you're\",\n",
              " 'yours',\n",
              " 'yourself',\n",
              " 'yourselves',\n",
              " \"you've\"]"
            ]
          },
          "metadata": {},
          "execution_count": 9
        }
      ]
    },
    {
      "cell_type": "code",
      "source": [
        "# here is the list of steps we need to perform on a paragraph to preprocess it\n",
        "# 1. apply sent_tokenizer\n",
        "# 2. Applay stopwords and filter then apply the stemming or lemmatization"
      ],
      "metadata": {
        "id": "_aV7qadISBJB"
      },
      "execution_count": null,
      "outputs": []
    },
    {
      "cell_type": "code",
      "source": [
        "sentences = nltk.sent_tokenize(paragraph)\n",
        "print(sentences)"
      ],
      "metadata": {
        "colab": {
          "base_uri": "https://localhost:8080/"
        },
        "id": "Dzu3_Oh-SBMl",
        "outputId": "2e063926-4457-4f19-df0a-ec5c65a33021"
      },
      "execution_count": 22,
      "outputs": [
        {
          "output_type": "stream",
          "name": "stdout",
          "text": [
            "['\\nJohn Wick is a 2014 American action thriller film directed by Chad Stahelski and written by Derek Kolstad.', 'Keanu Reeves stars as John Wick, a renowned former hitman who comes out of retirement to seek revenge against the men who killed his dog, a final gift from his recently deceased wife.', 'The film also stars Michael Nyqvist, Alfie Allen, Adrianne Palicki, Bridget Moynahan, Dean Winters, Ian McShane, John Leguizamo, and Willem Dafoe.', \"Kolstad's script drew on his interest in action, revenge, and neo noir films.\", 'The producer Basil Iwanyk purchased the rights as his first independent film production.', 'Reeves, whose career was declining, liked the script and recommended that the experienced stunt choreographers Stahelski and David Leitch direct the action scenes; Stahelski and Leitch successfully lobbied to co-direct the project.', 'Principal photography began in October 2013, on a $20–$30 million budget, and concluded that December.', 'Stahelski and Leitch focused on long, highly choreographed single takes to convey action, eschewing the rapid cuts and closeup shots of contemporary action films.', \"Iwanyk struggled to secure theatrical distributors because industry executives were dismissive of an action film by first-time directors, and Reeves's recent films had financially underperformed.\", 'Lionsgate Films purchased the distribution rights to the film two months before its release date on October 24, 2014.', 'Following a successful marketing campaign that changed its perception from disposable entertainment to a prestige event helmed by an affable leading actor, John Wick exceeded box-office projections and became a modest success, grossing $86 million worldwide.', 'It received generally positive reviews for its style and its action sequences.', 'Critics hailed John Wick as a comeback for Reeves, in a role that played to his acting strengths.', \"The film's mythology of a criminal underworld with rituals and rules was praised as its most distinctive and interesting feature.\", 'John Wick began a successful franchise which includes three sequels (John Wick: Chapter 2 (2017), John Wick: Chapter 3 – Parabellum (2019), and John Wick: Chapter 4 (2023)), the prequel television series The Continental (2023), and the spin-off film Ballerina (2025), as well as video games and comic books.', 'It is seen as having revitalized the action genre and popularized long single takes with choreographed, detailed action.', 'Plot\\nIn New York City, John Wick is grieving the death of his wife Helen, who had arranged for him to receive a beagle puppy, Daisy, to help cope with his loss.', 'A few days later, a group of Russian gangsters led by Iosef Tarasov accost John at a gas station and fail to intimidate him into selling them his 1969 Boss 429 Mustang.', \"[ii] That night, they break into John's home, assault him, kill the puppy, and steal the car.\", 'Iosef takes the Mustang to a chop shop to remove its identifying details, but the shop owner, Aurelio, recognizes it and refuses service.', \"Aurelio informs John that Iosef is the son of Viggo Tarasov, the boss of New York City's Russian Mafia.\", \"Upon learning of his son's actions, Viggo berates Iosef for incurring John's wrath.\", 'He reveals John was once a hitman in his employ, and was renowned and feared in the criminal underworld as the \"Baba Yaga\", a ruthless, relentless \"man of focus, commitment, and sheer will\".', 'After John fell in love with Helen, a civilian, Viggo gave him a seemingly impossible task to earn his freedom; he succeeded.', 'John recovers a concealed stash from his former career that includes weapons and gold coins.', \"He rejects Viggo's attempt to make amends and kills the hit squad subsequently sent to his home.\", \"Viggo puts a $2 million bounty on John and enlists John's former mentor, Marcus, to kill him.\", 'John lodges at the Continental, a luxurious hotel that serves as neutral ground for the underworld and where conducting criminal business is forbidden.', \"Winston, the hotel's owner and John's old friend, informs him that Iosef is at a nightclub called Red Circle.\", \"John infiltrates Red Circle and confronts Iosef, but he is attacked by Viggo's henchman Kirill and forced to retreat to the Continental for medical attention.\", 'As John rests, a hitwoman, Ms. Perkins, sneaks into his room.', 'Marcus sees Perkins from an adjacent building and fires a warning shot to alert John, who wakes up and subdues her.', 'Perkins reveals Viggo has doubled the bounty for her to kill John in the hotel and has concealed a high-value stash in a church.', 'John hires another hitman, Harry, to secure Perkins but she kills Harry and escapes.', \"At the church, John destroys Viggo's cache of cash and extensive blackmail material.\", \"When Viggo arrives to assess the damage, John assaults him and his men but is hit by Kirill's car and captured.\", 'John tells Viggo he will not stop until Iosef is dead because the puppy gave him hope and a chance to not be alone in his grief for Helen.', \"Marcus again intervenes to save John, who kills Kirill and threatens Viggo into revealing Iosef's location in a safe house.\", 'John attacks the safehouse and kills Iosef.', 'Marcus encourages John to return to his everyday life.', \"Perkins witnesses this and reveals Marcus's duplicity to Viggo, who has him tortured and killed.\", 'Viggo calls John to taunt him with the details, drawing him back to the city.', \"Winston has Perkins executed for breaking the Continental's rules, then informs John that Viggo is preparing to leave the city by helicopter.\", 'John races to New York Harbor, where he fights and mortally wounds Viggo.', 'John, resigned to dying from his injuries, watches on his phone a video of Helen telling him they need to go home.', 'He breaks into a nearby animal clinic, treats his wounds, and adopts a pit bull puppy scheduled to be euthanized before beginning to walk home.']\n"
          ]
        }
      ]
    },
    {
      "cell_type": "code",
      "source": [
        "# apply stop words and then stem it\n",
        "stemmer = PorterStemmer()\n",
        "for i in range(len(sentences)):\n",
        "    words = nltk.word_tokenize(sentences[i])\n",
        "    words = [stemmer.stem(word) for word in words if word not in set(stopwords.words('english'))]\n",
        "    sentences[i] = ' '.join(words)"
      ],
      "metadata": {
        "id": "1DBwisRDUNiI"
      },
      "execution_count": 16,
      "outputs": []
    },
    {
      "cell_type": "code",
      "source": [
        "sentences"
      ],
      "metadata": {
        "colab": {
          "base_uri": "https://localhost:8080/"
        },
        "id": "yd9FU695UNkU",
        "outputId": "5c8e0c5e-3ca3-404c-b6e4-b0fc60df9d4c"
      },
      "execution_count": 17,
      "outputs": [
        {
          "output_type": "execute_result",
          "data": {
            "text/plain": [
              "['john wick 2014 american action thriller film direct chad stahelski written derek kolstad .',\n",
              " 'keanu reev star john wick , renown former hitman come retir seek reveng men kill dog , final gift recent deceas wife .',\n",
              " 'the film also star michael nyqvist , alfi allen , adriann palicki , bridget moynahan , dean winter , ian mcshane , john leguizamo , willem dafo .',\n",
              " \"kolstad 's script drew interest action , reveng , neo noir film .\",\n",
              " 'the produc basil iwanyk purchas right first independ film product .',\n",
              " 'reev , whose career declin , like script recommend experienc stunt choreograph stahelski david leitch direct action scene ; stahelski leitch success lobbi co-direct project .',\n",
              " 'princip photographi began octob 2013 , $ 20– $ 30 million budget , conclud decemb .',\n",
              " 'stahelski leitch focus long , highli choreograph singl take convey action , eschew rapid cut closeup shot contemporari action film .',\n",
              " \"iwanyk struggl secur theatric distributor industri execut dismiss action film first-tim director , reev 's recent film financi underperform .\",\n",
              " 'lionsgat film purchas distribut right film two month releas date octob 24 , 2014 .',\n",
              " 'follow success market campaign chang percept dispos entertain prestig event helm affabl lead actor , john wick exceed box-offic project becam modest success , gross $ 86 million worldwid .',\n",
              " 'it receiv gener posit review style action sequenc .',\n",
              " 'critic hail john wick comeback reev , role play act strength .',\n",
              " \"the film 's mytholog crimin underworld ritual rule prais distinct interest featur .\",\n",
              " 'john wick began success franchis includ three sequel ( john wick : chapter 2 ( 2017 ) , john wick : chapter 3 – parabellum ( 2019 ) , john wick : chapter 4 ( 2023 ) ) , prequel televis seri the continent ( 2023 ) , spin-off film ballerina ( 2025 ) , well video game comic book .',\n",
              " 'it seen revit action genr popular long singl take choreograph , detail action .',\n",
              " 'plot in new york citi , john wick griev death wife helen , arrang receiv beagl puppi , daisi , help cope loss .',\n",
              " 'a day later , group russian gangster led iosef tarasov accost john ga station fail intimid sell 1969 boss 429 mustang .',\n",
              " \"[ ii ] that night , break john 's home , assault , kill puppi , steal car .\",\n",
              " 'iosef take mustang chop shop remov identifi detail , shop owner , aurelio , recogn refus servic .',\n",
              " \"aurelio inform john iosef son viggo tarasov , boss new york citi 's russian mafia .\",\n",
              " \"upon learn son 's action , viggo berat iosef incur john 's wrath .\",\n",
              " \"he reveal john hitman employ , renown fear crimin underworld `` baba yaga '' , ruthless , relentless `` man focu , commit , sheer '' .\",\n",
              " 'after john fell love helen , civilian , viggo gave seemingli imposs task earn freedom ; succeed .',\n",
              " 'john recov conceal stash former career includ weapon gold coin .',\n",
              " \"he reject viggo 's attempt make amend kill hit squad subsequ sent home .\",\n",
              " \"viggo put $ 2 million bounti john enlist john 's former mentor , marcu , kill .\",\n",
              " 'john lodg continent , luxuri hotel serv neutral ground underworld conduct crimin busi forbidden .',\n",
              " \"winston , hotel 's owner john 's old friend , inform iosef nightclub call red circl .\",\n",
              " \"john infiltr red circl confront iosef , attack viggo 's henchman kiril forc retreat continent medic attent .\",\n",
              " 'as john rest , hitwoman , ms. perkin , sneak room .',\n",
              " 'marcu see perkin adjac build fire warn shot alert john , wake subdu .',\n",
              " 'perkin reveal viggo doubl bounti kill john hotel conceal high-valu stash church .',\n",
              " 'john hire anoth hitman , harri , secur perkin kill harri escap .',\n",
              " \"at church , john destroy viggo 's cach cash extens blackmail materi .\",\n",
              " \"when viggo arriv assess damag , john assault men hit kiril 's car captur .\",\n",
              " 'john tell viggo stop iosef dead puppi gave hope chanc alon grief helen .',\n",
              " \"marcu interven save john , kill kiril threaten viggo reveal iosef 's locat safe hous .\",\n",
              " 'john attack safehous kill iosef .',\n",
              " 'marcu encourag john return everyday life .',\n",
              " \"perkin wit reveal marcu 's duplic viggo , tortur kill .\",\n",
              " 'viggo call john taunt detail , draw back citi .',\n",
              " \"winston perkin execut break continent 's rule , inform john viggo prepar leav citi helicopt .\",\n",
              " 'john race new york harbor , fight mortal wound viggo .',\n",
              " 'john , resign die injuri , watch phone video helen tell need go home .',\n",
              " 'he break nearbi anim clinic , treat wound , adopt pit bull puppi schedul euthan begin walk home .']"
            ]
          },
          "metadata": {},
          "execution_count": 17
        }
      ]
    },
    {
      "cell_type": "code",
      "source": [
        "snowballstemmer = SnowballStemmer('english')\n",
        "for i in range(len(sentences)):\n",
        "  words = nltk.word_tokenize(sentences[i])\n",
        "  words = [snowballstemmer.stem(word) for word in words if word not in set(stopwords.words('english'))]\n",
        "  sentences[i] = ' '.join(words)\n",
        "\n",
        "print(sentences)"
      ],
      "metadata": {
        "colab": {
          "base_uri": "https://localhost:8080/"
        },
        "id": "9O1y6xsqUNnv",
        "outputId": "47b8bff6-8927-4839-d7c3-0afae264386c"
      },
      "execution_count": 19,
      "outputs": [
        {
          "output_type": "stream",
          "name": "stdout",
          "text": [
            "['john wick 2014 american action thriller film direct chad stahelski written derek kolstad .', 'keanu reev star john wick , renown former hitman come retir seek reveng men kill dog , final gift recent deceas wife .', 'the film also star michael nyqvist , alfi allen , adriann palicki , bridget moynahan , dean winter , ian mcshane , john leguizamo , willem dafo .', \"kolstad 's script drew interest action , reveng , neo noir film .\", 'the produc basil iwanyk purchas right first independ film product .', 'reev , whose career declin , like script recommend experienc stunt choreograph stahelski david leitch direct action scene ; stahelski leitch success lobbi co-direct project .', 'princip photographi began octob 2013 , $ 20– $ 30 million budget , conclud decemb .', 'stahelski leitch focus long , high choreograph singl take convey action , eschew rapid cut closeup shot contemporari action film .', \"iwanyk struggl secur theatric distributor industri execut dismiss action film first-tim director , reev 's recent film financi underperform .\", 'lionsgat film purchas distribut right film two month releas date octob 24 , 2014 .', 'follow success market campaign chang percept dispos entertain prestig event helm affabl lead actor , john wick exceed box-offic project becam modest success , gross $ 86 million worldwid .', 'it receiv general posit review style action sequenc .', 'critic hail john wick comeback reev , role play act strength .', \"the film 's mytholog crimin underworld ritual rule prais distinct interest featur .\", 'john wick began success franchis includ three sequel ( john wick : chapter 2 ( 2017 ) , john wick : chapter 3 – parabellum ( 2019 ) , john wick : chapter 4 ( 2023 ) ) , prequel televis seri the continent ( 2023 ) , spin-off film ballerina ( 2025 ) , well video game comic book .', 'it seen revit action genr popular long singl take choreograph , detail action .', 'plot in new york citi , john wick griev death wife helen , arrang receiv beagl puppi , daisi , help cope loss .', 'a day later , group russian gangster led iosef tarasov accost john gas station fail intimid sell 1969 boss 429 mustang .', \"[ ii ] that night , break john 's home , assault , kill puppi , steal car .\", 'iosef take mustang chop shop remov identifi detail , shop owner , aurelio , recogn refus servic .', \"aurelio inform john iosef son viggo tarasov , boss new york citi 's russian mafia .\", \"upon learn son 's action , viggo berat iosef incur john 's wrath .\", \"he reveal john hitman employ , renown fear crimin underworld `` baba yaga '' , ruthless , relentless `` man focus , commit , sheer '' .\", 'after john fell love helen , civilian , viggo gave seem imposs task earn freedom ; succeed .', 'john recov conceal stash former career includ weapon gold coin .', \"he reject viggo 's attempt make amend kill hit squad subsequ sent home .\", \"viggo put $ 2 million bounti john enlist john 's former mentor , marcus , kill .\", 'john lodg continent , luxuri hotel serv neutral ground underworld conduct crimin busi forbidden .', \"winston , hotel 's owner john 's old friend , inform iosef nightclub call red circl .\", \"john infiltr red circl confront iosef , attack viggo 's henchman kiril forc retreat continent medic attent .\", 'as john rest , hitwoman , ms. perkin , sneak room .', 'marcus see perkin adjac build fire warn shot alert john , wake subdu .', 'perkin reveal viggo doubl bounti kill john hotel conceal high-valu stash church .', 'john hire anoth hitman , harri , secur perkin kill harri escap .', \"at church , john destroy viggo 's cach cash extens blackmail materi .\", \"when viggo arriv assess damag , john assault men hit kiril 's car captur .\", 'john tell viggo stop iosef dead puppi gave hope chanc alon grief helen .', \"marcus interven save john , kill kiril threaten viggo reveal iosef 's locat safe hous .\", 'john attack safehous kill iosef .', 'marcus encourag john return everyday life .', \"perkin wit reveal marcus 's duplic viggo , tortur kill .\", 'viggo call john taunt detail , draw back citi .', \"winston perkin execut break continent 's rule , inform john viggo prepar leav citi helicopt .\", 'john race new york harbor , fight mortal wound viggo .', 'john , resign die injuri , watch phone video helen tell need go home .', 'he break nearbi anim clinic , treat wound , adopt pit bull puppi schedul euthan begin walk home .']\n"
          ]
        }
      ]
    },
    {
      "cell_type": "code",
      "source": [
        "lemmatizer = WordNetLemmatizer()\n",
        "for i in range(len(sentences)):\n",
        "    sentences[i]=sentences[i].lower()\n",
        "    words = nltk.word_tokenize(sentences[i])\n",
        "\n",
        "    words = [lemmatizer.lemmatize(word, pos='v') for word in words if word not in set(stopwords.words('english'))]\n",
        "    sentences[i] = ' '.join(words)\n",
        "sentences"
      ],
      "metadata": {
        "colab": {
          "base_uri": "https://localhost:8080/"
        },
        "id": "LRoZTVuvVZbL",
        "outputId": "258ea410-aac0-4c0e-84b5-4722b2ed5210"
      },
      "execution_count": 23,
      "outputs": [
        {
          "output_type": "execute_result",
          "data": {
            "text/plain": [
              "['john wick 2014 american action thriller film direct chad stahelski write derek kolstad .',\n",
              " 'keanu reeve star john wick , renowned former hitman come retirement seek revenge men kill dog , final gift recently decease wife .',\n",
              " 'film also star michael nyqvist , alfie allen , adrianne palicki , bridget moynahan , dean winter , ian mcshane , john leguizamo , willem dafoe .',\n",
              " \"kolstad 's script draw interest action , revenge , neo noir film .\",\n",
              " 'producer basil iwanyk purchase right first independent film production .',\n",
              " 'reeve , whose career decline , like script recommend experience stunt choreographers stahelski david leitch direct action scenes ; stahelski leitch successfully lobby co-direct project .',\n",
              " 'principal photography begin october 2013 , $ 20– $ 30 million budget , conclude december .',\n",
              " 'stahelski leitch focus long , highly choreograph single take convey action , eschew rapid cut closeup shots contemporary action film .',\n",
              " \"iwanyk struggle secure theatrical distributors industry executives dismissive action film first-time directors , reeve 's recent film financially underperform .\",\n",
              " 'lionsgate film purchase distribution right film two months release date october 24 , 2014 .',\n",
              " 'follow successful market campaign change perception disposable entertainment prestige event helm affable lead actor , john wick exceed box-office projections become modest success , gross $ 86 million worldwide .',\n",
              " 'receive generally positive review style action sequence .',\n",
              " 'critics hail john wick comeback reeve , role play act strengths .',\n",
              " \"film 's mythology criminal underworld rituals rule praise distinctive interest feature .\",\n",
              " 'john wick begin successful franchise include three sequels ( john wick : chapter 2 ( 2017 ) , john wick : chapter 3 – parabellum ( 2019 ) , john wick : chapter 4 ( 2023 ) ) , prequel television series continental ( 2023 ) , spin-off film ballerina ( 2025 ) , well video game comic book .',\n",
              " 'see revitalize action genre popularize long single take choreograph , detail action .',\n",
              " 'plot new york city , john wick grieve death wife helen , arrange receive beagle puppy , daisy , help cope loss .',\n",
              " 'days later , group russian gangsters lead iosef tarasov accost john gas station fail intimidate sell 1969 boss 429 mustang .',\n",
              " \"[ ii ] night , break john 's home , assault , kill puppy , steal car .\",\n",
              " 'iosef take mustang chop shop remove identify detail , shop owner , aurelio , recognize refuse service .',\n",
              " \"aurelio inform john iosef son viggo tarasov , boss new york city 's russian mafia .\",\n",
              " \"upon learn son 's action , viggo berate iosef incur john 's wrath .\",\n",
              " \"reveal john hitman employ , renowned fear criminal underworld `` baba yaga '' , ruthless , relentless `` man focus , commitment , sheer '' .\",\n",
              " 'john fell love helen , civilian , viggo give seemingly impossible task earn freedom ; succeed .',\n",
              " 'john recover conceal stash former career include weapons gold coin .',\n",
              " \"reject viggo 's attempt make amend kill hit squad subsequently send home .\",\n",
              " \"viggo put $ 2 million bounty john enlist john 's former mentor , marcus , kill .\",\n",
              " 'john lodge continental , luxurious hotel serve neutral grind underworld conduct criminal business forbid .',\n",
              " \"winston , hotel 's owner john 's old friend , inform iosef nightclub call red circle .\",\n",
              " \"john infiltrate red circle confront iosef , attack viggo 's henchman kirill force retreat continental medical attention .\",\n",
              " 'john rest , hitwoman , ms. perkins , sneak room .',\n",
              " 'marcus see perkins adjacent build fire warn shoot alert john , wake subdue .',\n",
              " 'perkins reveal viggo double bounty kill john hotel conceal high-value stash church .',\n",
              " 'john hire another hitman , harry , secure perkins kill harry escape .',\n",
              " \"church , john destroy viggo 's cache cash extensive blackmail material .\",\n",
              " \"viggo arrive assess damage , john assault men hit kirill 's car capture .\",\n",
              " 'john tell viggo stop iosef dead puppy give hope chance alone grief helen .',\n",
              " \"marcus intervene save john , kill kirill threaten viggo reveal iosef 's location safe house .\",\n",
              " 'john attack safehouse kill iosef .',\n",
              " 'marcus encourage john return everyday life .',\n",
              " \"perkins witness reveal marcus 's duplicity viggo , torture kill .\",\n",
              " 'viggo call john taunt detail , draw back city .',\n",
              " \"winston perkins execute break continental 's rule , inform john viggo prepare leave city helicopter .\",\n",
              " 'john race new york harbor , fight mortally wound viggo .',\n",
              " 'john , resign die injuries , watch phone video helen tell need go home .',\n",
              " 'break nearby animal clinic , treat wound , adopt pit bull puppy schedule euthanized begin walk home .']"
            ]
          },
          "metadata": {},
          "execution_count": 23
        }
      ]
    }
  ]
}